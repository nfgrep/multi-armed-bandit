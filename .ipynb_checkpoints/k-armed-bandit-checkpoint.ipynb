{
 "cells": [
  {
   "cell_type": "markdown",
   "id": "ec4732b1",
   "metadata": {},
   "source": [
    "### The Multi-Armed Bandit"
   ]
  },
  {
   "cell_type": "markdown",
   "id": "fd1c6e2e",
   "metadata": {},
   "source": [
    "**TLDR:** "
   ]
  },
  {
   "cell_type": "markdown",
   "id": "0e1e6b9b",
   "metadata": {
    "jupyter": {
     "source_hidden": true
    },
    "tags": []
   },
   "source": [
    "- 'Arm' referes to the arm you pull on a slot-machine.  \n",
    "- Our environment is just some slot-machines.  \n",
    "- Each slot-machine returns a random reward in some range.  \n",
    "- Each slot-machine has a different range, some better than others.  \n",
    "- We want our agent (the computer) to learn which arms to pull for the highest reward.  "
   ]
  },
  {
   "cell_type": "markdown",
   "id": "07ce6c6f",
   "metadata": {},
   "source": [
    "**Full Explaination:**"
   ]
  },
  {
   "cell_type": "markdown",
   "id": "cf978da5",
   "metadata": {
    "jupyter": {
     "source_hidden": true
    },
    "tags": []
   },
   "source": [
    "//TODO"
   ]
  },
  {
   "cell_type": "code",
   "execution_count": 1,
   "id": "cf505249",
   "metadata": {},
   "outputs": [],
   "source": [
    "import random"
   ]
  },
  {
   "cell_type": "code",
   "execution_count": 2,
   "id": "0e5f57d4",
   "metadata": {},
   "outputs": [],
   "source": [
    "def pull_arm(arm_choice):\n",
    "    if arm_choice == 0:\n",
    "        return random.randrange(-50,0)\n",
    "    \n",
    "    elif arm_choice == 1:\n",
    "        return random.randrange(-30,10)\n",
    "    \n",
    "    elif arm_choice == 2:\n",
    "        return random.randrange(0,20)\n",
    "    \n",
    "    elif arm_choice == 3:\n",
    "        return random.randrange(30,50)"
   ]
  },
  {
   "cell_type": "markdown",
   "id": "2d29ad4f",
   "metadata": {},
   "source": [
    "### Learning Which Arm to Pull"
   ]
  },
  {
   "cell_type": "markdown",
   "id": "30040d8a",
   "metadata": {},
   "source": [
    "**TLDR:**"
   ]
  },
  {
   "cell_type": "markdown",
   "id": "99f0a6fa",
   "metadata": {
    "jupyter": {
     "source_hidden": true
    },
    "tags": []
   },
   "source": [
    "- We can only pull one arm at a time, we have to choose one.\n",
    "- We're looking for arm with highest [expected value](https://data36.com/expected-value-formula/#what_expected_value_is).\n",
    "- Sometimes we **Explore:**\n",
    "    - Pull a random arm to better our estimate of its expected value.\n",
    "- Other times we **Exploit:**\n",
    "    - Pull arm with highest estimated expected value, to maximize our reward."
   ]
  },
  {
   "cell_type": "markdown",
   "id": "ba9accb6",
   "metadata": {},
   "source": [
    "**Full Explaination:**"
   ]
  },
  {
   "cell_type": "markdown",
   "id": "4c15b3bf",
   "metadata": {
    "jupyter": {
     "source_hidden": true
    },
    "tags": []
   },
   "source": [
    "Let's pretend we're the agent.\n",
    "\n",
    "What makes one arm better than another?  \n",
    "**The arm's [expected value](https://data36.com/expected-value-formula/#what_expected_value_is).**\n",
    "\n",
    "We need to estimate which arm has the highest expected value, so we'll keep track of the average rewards we get from each arm.  \n",
    "The more times we pull an arm, the more accurate our estimate.\n",
    "\n",
    "That said, we cant pull every arm at once, we have to pick one.  \n",
    "We have two options here:  \n",
    "- Pick a random arm, to better our estimate of its expected value.\n",
    "- Pick the arm with the highest estimated expected value, to get a high reward.\n",
    "\n",
    "These two options are referred to as explore and exploit, respecively.  \n",
    "Explore: exlporing options and bettering our understanding.  \n",
    "Exploit: exploiting what we've learned, and picking what we think is the best option.  \n",
    "\n",
    "We have to balance how often we explore and exploit if we want the highest reward over the long-run.  \n"
   ]
  },
  {
   "cell_type": "code",
   "execution_count": 581,
   "id": "07afe632",
   "metadata": {},
   "outputs": [],
   "source": [
    "# Keeping track of the rewards we get from each arm\n",
    "\n",
    "# rewards_for_arm[0] = list of rewards from arm0, etc.\n",
    "rewards_for_arm = [[],[],[],[]]\n",
    "\n",
    "#rewards_over_time[0] = the first reward we got, etc.\n",
    "rewards_over_time = []"
   ]
  },
  {
   "cell_type": "code",
   "execution_count": 582,
   "id": "41cb95f9",
   "metadata": {},
   "outputs": [],
   "source": [
    "# Explore 50% of the time, Exploit the rest of the time\n",
    "will_explore = random.random() < 0.5"
   ]
  },
  {
   "cell_type": "code",
   "execution_count": 583,
   "id": "2aaafba3",
   "metadata": {},
   "outputs": [],
   "source": [
    "# Return a random arm, 0 to 3\n",
    "def explore():\n",
    "    return random.randint(0,3)"
   ]
  },
  {
   "cell_type": "code",
   "execution_count": 584,
   "id": "b07443d6",
   "metadata": {},
   "outputs": [],
   "source": [
    "# Return the arm with the best average reward so far\n",
    "def exploit(rewards):\n",
    "    averages = {\n",
    "        0: sum(rewards[0]) / (len(rewards[0]) or 1),\n",
    "        1: sum(rewards[1]) / (len(rewards[1]) or 1),\n",
    "        2: sum(rewards[2]) / (len(rewards[2]) or 1),\n",
    "        3: sum(rewards[3]) / (len(rewards[3]) or 1)\n",
    "    }\n",
    "    \n",
    "    return max(averages, key = lambda k: averages[k])\n",
    "        "
   ]
  },
  {
   "cell_type": "markdown",
   "id": "329272e1",
   "metadata": {},
   "source": [
    "### Pulling an arm"
   ]
  },
  {
   "cell_type": "code",
   "execution_count": 605,
   "id": "6069cae9",
   "metadata": {},
   "outputs": [
    {
     "name": "stdout",
     "output_type": "stream",
     "text": [
      "[-28, 2, -22, 14, 6, 17, 10, 16, 13, 4, 14, 15, 9, 5, 7, 11, 4, 17, 12, 2, 2]\n"
     ]
    }
   ],
   "source": [
    "# Pick an arm\n",
    "if will_explore:\n",
    "    arm_choice = explore()\n",
    "else:\n",
    "    arm_choice = exploit(rewards_for_arm)\n",
    "\n",
    "# Pull it\n",
    "reward = pull_arm(arm_choice)\n",
    "\n",
    "# Keep track of the reward we got for this arm\n",
    "rewards_for_arm[arm_choice].append(reward)\n",
    "\n",
    "# Keep track of the reward we got at this point in time\n",
    "rewards_over_time.append(reward)\n",
    "\n",
    "print(rewards_over_time)"
   ]
  },
  {
   "cell_type": "markdown",
   "id": "eb92c79f",
   "metadata": {},
   "source": [
    "Ok, so we're picking arms, getting rewards, and keeping track of them.  \n",
    "**Remember:** the goal is to get the highest reward in the long run. "
   ]
  },
  {
   "cell_type": "markdown",
   "id": "49be4ba1",
   "metadata": {},
   "source": [
    "### Let's see how we're performing:  "
   ]
  },
  {
   "cell_type": "code",
   "execution_count": 83,
   "id": "fa4bddb3",
   "metadata": {
    "collapsed": true,
    "jupyter": {
     "outputs_hidden": true
    },
    "tags": []
   },
   "outputs": [
    {
     "name": "stdout",
     "output_type": "stream",
     "text": [
      "Requirement already satisfied: matplotlib in ./.venv/lib/python3.9/site-packages (3.4.1)\n",
      "Requirement already satisfied: pyparsing>=2.2.1 in ./.venv/lib/python3.9/site-packages (from matplotlib) (2.4.7)\n",
      "Requirement already satisfied: kiwisolver>=1.0.1 in ./.venv/lib/python3.9/site-packages (from matplotlib) (1.3.1)\n",
      "Requirement already satisfied: python-dateutil>=2.7 in ./.venv/lib/python3.9/site-packages (from matplotlib) (2.8.1)\n",
      "Requirement already satisfied: pillow>=6.2.0 in ./.venv/lib/python3.9/site-packages (from matplotlib) (8.2.0)\n",
      "Requirement already satisfied: cycler>=0.10 in ./.venv/lib/python3.9/site-packages (from matplotlib) (0.10.0)\n",
      "Requirement already satisfied: numpy>=1.16 in ./.venv/lib/python3.9/site-packages (from matplotlib) (1.20.2)\n",
      "Requirement already satisfied: six in ./.venv/lib/python3.9/site-packages (from cycler>=0.10->matplotlib) (1.15.0)\n"
     ]
    }
   ],
   "source": [
    "import sys\n",
    "!{sys.executable} -m pip install matplotlib\n",
    "\n",
    "import matplotlib.pyplot as plt"
   ]
  },
  {
   "cell_type": "code",
   "execution_count": 606,
   "id": "2d445a63",
   "metadata": {},
   "outputs": [
    {
     "data": {
      "text/plain": [
       "[<matplotlib.lines.Line2D at 0x11b8d5be0>]"
      ]
     },
     "execution_count": 606,
     "metadata": {},
     "output_type": "execute_result"
    },
    {
     "data": {
      "image/png": "[encoded data removed]",
      "text/plain": [
       "<Figure size 432x288 with 1 Axes>"
      ]
     },
     "metadata": {
      "needs_background": "light"
     },
     "output_type": "display_data"
    }
   ],
   "source": [
    "plt.plot(rewards_over_time)"
   ]
  },
  {
   "cell_type": "code",
   "execution_count": null,
   "id": "7565be88",
   "metadata": {},
   "outputs": [],
   "source": []
  }
 ],
 "metadata": {
  "kernelspec": {
   "display_name": "Python 3",
   "language": "python",
   "name": "python3"
  },
  "language_info": {
   "codemirror_mode": {
    "name": "ipython",
    "version": 3
   },
   "file_extension": ".py",
   "mimetype": "text/x-python",
   "name": "python",
   "nbconvert_exporter": "python",
   "pygments_lexer": "ipython3",
   "version": "3.9.2"
  }
 },
 "nbformat": 4,
 "nbformat_minor": 5
}
